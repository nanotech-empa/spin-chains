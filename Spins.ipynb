{
 "cells": [
  {
   "cell_type": "code",
   "execution_count": null,
   "metadata": {},
   "outputs": [],
   "source": [
    "import numpy as np\n",
    "import itertools\n",
    "import matplotlib.pyplot as plt\n",
    "from IPython.display import display, Latex"
   ]
  },
  {
   "cell_type": "code",
   "execution_count": null,
   "metadata": {},
   "outputs": [],
   "source": [
    "def fraction_to_latex(r):\n",
    "    i,j = (round(r,5)).as_integer_ratio()\n",
    "    if abs(j) == 1 or i==0:\n",
    "        return r'$'+str(i)+'$'\n",
    "    #only fractions left\n",
    "    if r < 0:\n",
    "        return r'\\frac{'+str(-abs(i))+'}{'+str(abs(j))+'} '\n",
    "    return r'\\frac{'+str(i)+'}{'+str(j)+'} '"
   ]
  },
  {
   "cell_type": "code",
   "execution_count": null,
   "metadata": {},
   "outputs": [],
   "source": [
    "def mult(s):\n",
    "    return int(2*s + 1)\n",
    "def m(s):\n",
    "    return [s-i for i in range(0,mult(s))]\n",
    "def basis(S):\n",
    "    allm = list(itertools.product(*[m(s) for s in S]))\n",
    "    return allm\n",
    "    #list(itertools.product(*a))\n",
    "def print_basis(S):\n",
    "    all_vectors=basis(S)\n",
    "    for v in all_vectors:\n",
    "        vector=r'$|'\n",
    "        for m in v:\n",
    "            vector+=fraction_to_latex(m)+','\n",
    "        vector=vector[:-1]+r'>$'\n",
    "        display(Latex(vector))"
   ]
  },
  {
   "cell_type": "code",
   "execution_count": null,
   "metadata": {},
   "outputs": [],
   "source": [
    "print_basis([1/2,1,1/2])"
   ]
  },
  {
   "cell_type": "code",
   "execution_count": null,
   "metadata": {},
   "outputs": [],
   "source": [
    "a=0\n",
    "a.as_integer_ratio()"
   ]
  },
  {
   "cell_type": "markdown",
   "metadata": {},
   "source": [
    "If we have a chain of spins $\\vec{S}_i$\n",
    "\\begin{equation}\n",
    "H=\\sum_{\\alpha,j>i} J^{\\alpha}_{ij} \\tilde{S}^{\\alpha}_i \\tilde{S}^{\\alpha}_j \\, \\alpha=x,y,z \\\\\n",
    "\\tilde{S}^{\\alpha}_k = I^{2*S_1+1}_1\\otimes I^{2*S_2+1}_2 \\otimes \\cdots \\otimes I^{2*S_{k-1}+1}_{k-1}\\otimes S^{\\alpha}_k \\otimes \\cdots I^{2*S_N+1}_N\n",
    "\\end{equation}\n",
    "where $I^{2*S_2+1}_2$ is the identity matrix of dimension the multiplicity of $S_2$ and $\\otimes$ is the kronecker product"
   ]
  },
  {
   "cell_type": "markdown",
   "metadata": {},
   "source": [
    "in general:\n",
    "\\begin{equation}\n",
    "<m'|S^x|m>=(\\delta _{m' , m+1} + \\delta _{m'+1,m} \\frac{1}{2})\\sqrt{S(S+1)-mm'} \\\\\n",
    "<m'|S^y|m>=(\\delta _{m' , m+1} - \\delta _{m'+1,m} \\frac{1}{2i})\\sqrt{S(S+1)-mm'} \\\\\n",
    "<m'|S^z|m>=\\delta _{m' , m}m\n",
    "\\end{equation}"
   ]
  },
  {
   "cell_type": "markdown",
   "metadata": {},
   "source": [
    "The functions sx,sy,sz defined below accept as input a list $S$ containing the value of the $N$ spins in the chain and the index $j$ of the spin for which the matrix $S^{\\alpha}_j$ should be computed. $sx([1/2,1,1/2],1)$ would return the 12-D matrix of $\\tilde{S}^x$ for the spin $j=1$ in a trimer where $j=0$ has $S=1/2$, $j=1$ has $S=1$ and $j=2$ has $S=1/2$"
   ]
  },
  {
   "cell_type": "code",
   "execution_count": null,
   "metadata": {},
   "outputs": [],
   "source": [
    "def delta(m1,m2):\n",
    "    return int((int(2*m1)==int(2*m2)))\n",
    "def sx(S,jj):\n",
    "    SM=[]\n",
    "    for ii,s in enumerate(S):\n",
    "        m=[s-i for i in range(0,mult(s))]\n",
    "        sm=complex(1)*np.zeros((mult(s),mult(s)))\n",
    "        for i,m1 in enumerate(m):\n",
    "            for j,m2 in enumerate(m):\n",
    "                sm[i,j]=1/2*np.sqrt(s*(s+1)-m1*m2)*(delta(m1,m2+1)+delta(m1+1,m2))\n",
    "        if ii == jj:\n",
    "            SM.append(sm)\n",
    "        else:\n",
    "            SM.append(np.identity(mult(s))) # Identity matrix of 2*S+1 dimension\n",
    "    sm = SM[0]\n",
    "    for i in range(1,len(S)): # do I^x(j-1) x s_j x I^x(N-j)\n",
    "        sm=np.kron(sm,SM[i])\n",
    "    return sm\n",
    "def sy(S,jj):\n",
    "    SM=[]\n",
    "    for ii,s in enumerate(S):\n",
    "        m=[s-i for i in range(0,mult(s))]\n",
    "        sm=complex(1)*np.zeros((mult(s),mult(s)))\n",
    "        for i,m1 in enumerate(m):\n",
    "            for j,m2 in enumerate(m):\n",
    "                sm[i,j]=complex(1/(2j))*np.sqrt(s*(s+1)-m1*m2)*(delta(m1,m2+1)-delta(m1+1,m2))\n",
    "        if ii == jj:\n",
    "            SM.append(sm)\n",
    "        else:\n",
    "            SM.append(np.identity(mult(s))) # Identity matrix of 2*S+1 dimension\n",
    "    sm = SM[0]\n",
    "    for i in range(1,len(S)): # do I^x(j-1) x s_j x I^x(N-j)\n",
    "        sm=np.kron(sm,SM[i])\n",
    "    return sm\n",
    "def sz(S,jj):\n",
    "    SM=[]\n",
    "    for ii,s in enumerate(S):\n",
    "        m=[s-i for i in range(0,mult(s))]\n",
    "        sm=complex(1)*np.zeros((mult(s),mult(s)))\n",
    "        for i,m1 in enumerate(m):\n",
    "            sm[i,i]=m1\n",
    "        if ii == jj:\n",
    "            SM.append(sm)\n",
    "        else:\n",
    "            SM.append(np.identity(mult(s))) # Identity matrix of 2*S+1 dimension\n",
    "    sm = SM[0]\n",
    "    for i in range(1,len(S)): # do I^x(j-1) x s_j x I^x(N-j)\n",
    "        sm=np.kron(sm,SM[i])\n",
    "    return sm"
   ]
  },
  {
   "cell_type": "markdown",
   "metadata": {},
   "source": [
    "for example for $S=1/2$ the $S^{\\alpha}$ matrices are:\n",
    "\\begin{equation}\n",
    "S^x = \\frac{1}{2} \n",
    "\\begin{pmatrix} \n",
    "1 & 0 \\\\\n",
    "0 & 1\n",
    "\\end{pmatrix}\n",
    "S^y = \\frac{1}{2i} \n",
    "\\begin{pmatrix} \n",
    "0 & 1 \\\\\n",
    "-1 & 0\n",
    "\\end{pmatrix}\n",
    "S^z = \\frac{1}{2} \n",
    "\\begin{pmatrix} \n",
    "1 & 0 \\\\\n",
    "0 & -1\n",
    "\\end{pmatrix}\n",
    "\\end{equation}"
   ]
  },
  {
   "cell_type": "markdown",
   "metadata": {},
   "source": [
    "and for S=1 \n",
    "\\begin{equation}\n",
    "S^x = \\frac{1}{\\sqrt{2}} \\begin{pmatrix} 0 & 1 & 0 \\\\ 1 & 0 & 1 \\\\ 0 & 1 & 0 \\end{pmatrix} ,\n",
    "S^y = \\frac{1}{\\sqrt{2}i}  \\begin{pmatrix}   0 & 1 & 0 \\\\ -1 & 0 & 1 \\\\ 0 & -1 & 0 \\end{pmatrix} , \n",
    "S^z = \\frac{1}{\\sqrt{2}}  \\begin{pmatrix}   1 & 0 & 0 \\\\ 0 & 0 & 0 \\\\ 0 & 0 & -1 \\end{pmatrix}\n",
    "\\end{equation}"
   ]
  },
  {
   "cell_type": "markdown",
   "metadata": {},
   "source": [
    "in case of a dimer with $S_1 = 1/2$ and $S_2=1/2$ we have: \n",
    "\\begin{equation}\n",
    "\\tilde{S}^z_1 = S^z  \\otimes \\begin{pmatrix}1 & 0 \\\\0 & 1 \\end{pmatrix} = \n",
    "\\frac{1}{2}\\begin{pmatrix} 1 & 0 & 0 & 0 \\\\ 0 & 1 & 0 & 0 \\\\  0 & 0 & -1 & 0 \\\\ 0 & 0 & 0 & -1 \\end{pmatrix}\\\\\n",
    "\\tilde{S}^z_2 = \\begin{pmatrix}1 & 0 \\\\0 & 1 \\end{pmatrix} \\otimes S^z = \n",
    "\\frac{1}{2}\\begin{pmatrix} 1 & 0 & 0 & 0 \\\\ 0 & -1 & 0 & 0 \\\\  0 & 0 & 1 & 0 \\\\ 0 & 0 & 0 & -1 \\end{pmatrix}\n",
    "\\end{equation}\n",
    "and\n",
    "\\begin{equation}\n",
    "\\tilde{S}^z_1 \\tilde{S}^z_2 = \n",
    "\\frac{1}{2}\\begin{pmatrix} 1 & 0 & 0 & 0 \\\\ 0 & 1 & 0 & 0 \\\\  0 & 0 & -1 & 0 \\\\ 0 & 0 & 0 & -1 \\end{pmatrix} \n",
    "\\frac{1}{2}\\begin{pmatrix} 1 & 0 & 0 & 0 \\\\ 0 & -1 & 0 & 0 \\\\  0 & 0 & 1 & 0 \\\\ 0 & 0 & 0 & -1 \\end{pmatrix} =\n",
    "\\frac{1}{4} \\begin{pmatrix} 1 & 0 & 0 & 0 \\\\ 0 & -1 & 0 & 0 \\\\  0 & 0 & -1 & 0 \\\\ 0 & 0 & 0 & 1 \\end{pmatrix}\n",
    "\\end{equation}\n",
    "equivalent to\n",
    "\\begin{equation}\n",
    "S^z \\otimes S^z\n",
    "\\end{equation}\n",
    "as shown also in the four code cells below"
   ]
  },
  {
   "cell_type": "code",
   "execution_count": null,
   "metadata": {},
   "outputs": [],
   "source": [
    "sz([1/2,1/2],0)"
   ]
  },
  {
   "cell_type": "code",
   "execution_count": null,
   "metadata": {},
   "outputs": [],
   "source": [
    "sz([1/2,1/2],1)"
   ]
  },
  {
   "cell_type": "code",
   "execution_count": null,
   "metadata": {},
   "outputs": [],
   "source": [
    "np.matmul(sz([1/2,1/2],0),sz([1/2,1/2],1))"
   ]
  },
  {
   "cell_type": "code",
   "execution_count": null,
   "metadata": {},
   "outputs": [],
   "source": [
    "np.kron(sz([1/2],0),sz([1/2],0))"
   ]
  },
  {
   "cell_type": "markdown",
   "metadata": {},
   "source": [
    "# example: Hamiltonian two S=1/2 spins"
   ]
  },
  {
   "cell_type": "code",
   "execution_count": null,
   "metadata": {},
   "outputs": [],
   "source": [
    "H=np.matmul(sx([1/2,1/2],0),sx([1/2,1/2],1)) + np.matmul(sy([1/2,1/2],0),sy([1/2,1/2],1)) +np.matmul(sz([1/2,1/2],0),sz([1/2,1/2],1))\n",
    "H"
   ]
  },
  {
   "cell_type": "code",
   "execution_count": null,
   "metadata": {},
   "outputs": [],
   "source": [
    "evals, evecs = np.linalg.eig(H)"
   ]
  },
  {
   "cell_type": "code",
   "execution_count": null,
   "metadata": {},
   "outputs": [],
   "source": [
    "np.real(evals)"
   ]
  },
  {
   "cell_type": "code",
   "execution_count": null,
   "metadata": {},
   "outputs": [],
   "source": [
    "np.real(evecs)[:,0]"
   ]
  },
  {
   "cell_type": "markdown",
   "metadata": {},
   "source": [
    "# dimer of S=1/2 and S=1"
   ]
  },
  {
   "cell_type": "markdown",
   "metadata": {},
   "source": [
    "in case of a dimer with spin $S_1=1/2$ and spin $S_2=1$ we have:\n",
    "\\begin{equation}\n",
    "\\tilde{S}^z_1 = S^z  \\otimes \\begin{pmatrix}1 & 0 &0  \\\\ 0 & 1 & 0 \\\\ 0 & 0 & 1 \\end{pmatrix}=\n",
    "\\frac{1}{2}\\begin{pmatrix} 1 &0 &0 &0 &0 &0 \\\\ 0 &1 &0 &0 &0 &0 \\\\ 0 &0 &1 &0 &0 &0 \\\\ 0 &0 &0 &-1 &0 &0\\\\ 0 &0 &0 &0 &-1 &0 \\\\ 0 &0 &0 &0 &0 &-1 \\end{pmatrix} \\\\\n",
    "\\tilde{S}^z_2 = \\begin{pmatrix}1 & 0 \\\\ 0 & 1  \\end{pmatrix} \\otimes S^z = \n",
    "\\begin{pmatrix} 1 &0 &0 &0 &0 &0 \\\\ 0 &0 &0 &0 &0 &0 \\\\ 0 &0 &-1 &0 &0 &0 \\\\ 0 &0 &0 &1 &0 &0\\\\ 0 &0 &0 &0 &0 &0 \\\\ 0 &0 &0 &0 &0 &-1 \\end{pmatrix}\n",
    "\\end{equation}\n",
    "where we used the $S^z$ matrix for $S=\\frac{1}{2}$ in the first equation and for $S=1$ in the second one. This is also demonstarted in the two following code cells."
   ]
  },
  {
   "cell_type": "code",
   "execution_count": null,
   "metadata": {},
   "outputs": [],
   "source": [
    "sz([1/2,1],0)"
   ]
  },
  {
   "cell_type": "code",
   "execution_count": null,
   "metadata": {},
   "outputs": [],
   "source": [
    "sz([1/2,1],1)"
   ]
  },
  {
   "cell_type": "markdown",
   "metadata": {},
   "source": [
    "# general case"
   ]
  },
  {
   "cell_type": "markdown",
   "metadata": {},
   "source": [
    "$J=(J^x_{1,2},J^x_{1,3},\\cdots,J^x_{1,N},J^x_{2,3},\\cdots,J^x_{N-1,N}),(J^y,\\cdots),(J^z,\\cdots)$"
   ]
  },
  {
   "cell_type": "code",
   "execution_count": null,
   "metadata": {},
   "outputs": [],
   "source": [
    "J=[[],[],[]]\n",
    "N=2\n",
    "jx=1\n",
    "jy=1\n",
    "jz=1\n",
    "count=0\n",
    "for i in range(N-1):\n",
    "    for j in range(i+1,N):\n",
    "        J[0].append(int(i+1==j)*jx)\n",
    "        J[1].append(int(i+1==j)*jy)\n",
    "        J[2].append(int(i+1==j)*jz)\n",
    "    count+=1\n",
    "S=[1,1]"
   ]
  },
  {
   "cell_type": "code",
   "execution_count": null,
   "metadata": {},
   "outputs": [],
   "source": [
    "def H(S,J):\n",
    "    ndim=1\n",
    "    for s in S:\n",
    "        ndim*=mult(s)\n",
    "    h=complex(1)*np.zeros((ndim,ndim))\n",
    "    count=0\n",
    "    for i in range(len(S)-1):\n",
    "        for j in range(i+1,len(S)):\n",
    "            h+=J[0][count]*np.matmul(sx(S,i),sx(S,j))\n",
    "            h+=J[1][count]*np.matmul(sy(S,i),sy(S,j))\n",
    "            h+=J[2][count]*np.matmul(sz(S,i),sz(S,j))\n",
    "            count+=1\n",
    "    return h"
   ]
  },
  {
   "cell_type": "code",
   "execution_count": null,
   "metadata": {},
   "outputs": [],
   "source": [
    "h=H(S,J)"
   ]
  },
  {
   "cell_type": "code",
   "execution_count": null,
   "metadata": {},
   "outputs": [],
   "source": [
    "evals, evecs = np.linalg.eig(h)"
   ]
  },
  {
   "cell_type": "code",
   "execution_count": null,
   "metadata": {},
   "outputs": [],
   "source": [
    "np.real(evals)"
   ]
  },
  {
   "cell_type": "code",
   "execution_count": null,
   "metadata": {},
   "outputs": [],
   "source": [
    "np.real(evecs)[:,0]"
   ]
  }
 ],
 "metadata": {
  "kernelspec": {
   "display_name": "Python 3 (ipykernel)",
   "language": "python",
   "name": "python3"
  },
  "language_info": {
   "codemirror_mode": {
    "name": "ipython",
    "version": 3
   },
   "file_extension": ".py",
   "mimetype": "text/x-python",
   "name": "python",
   "nbconvert_exporter": "python",
   "pygments_lexer": "ipython3",
   "version": "3.9.4"
  }
 },
 "nbformat": 4,
 "nbformat_minor": 4
}
